{
 "cells": [
  {
   "cell_type": "code",
   "execution_count": 5,
   "id": "ecf40899",
   "metadata": {},
   "outputs": [],
   "source": [
    "class employee:\n",
    "    def __init__(self):\n",
    "        self.id=322\n",
    "        self.salary=250000\n",
    "        self.name=\"jashia\"\n",
    "\n",
    "    def calculate_salary(self):\n",
    "        print(f\"salary of {self.name} is {self.salary/10}\")\n",
    " "
   ]
  },
  {
   "cell_type": "code",
   "execution_count": 6,
   "id": "debd1941",
   "metadata": {},
   "outputs": [
    {
     "name": "stdout",
     "output_type": "stream",
     "text": [
      "employee name jashia\n",
      "salary of jashia is 25000.0\n"
     ]
    }
   ],
   "source": [
    "emp1=employee()\n",
    "print(f\"employee name {emp1.name}\")\n",
    "emp1.calculate_salary()"
   ]
  }
 ],
 "metadata": {
  "kernelspec": {
   "display_name": "base",
   "language": "python",
   "name": "python3"
  },
  "language_info": {
   "codemirror_mode": {
    "name": "ipython",
    "version": 3
   },
   "file_extension": ".py",
   "mimetype": "text/x-python",
   "name": "python",
   "nbconvert_exporter": "python",
   "pygments_lexer": "ipython3",
   "version": "3.9.18"
  }
 },
 "nbformat": 4,
 "nbformat_minor": 5
}
