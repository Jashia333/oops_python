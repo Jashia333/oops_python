{
 "cells": [
  {
   "cell_type": "code",
   "execution_count": 1,
   "id": "ecf40899",
   "metadata": {},
   "outputs": [],
   "source": [
    "class employee:\n",
    "    def __init__(self):\n",
    "        self.id=322\n",
    "        self.salary=250000\n",
    "        self.name=\"jashia\"\n",
    "\n",
    "    def calculate_salary(self):\n",
    "        print(f\"salary of {self.name} is {self.salary/10}\")\n",
    " "
   ]
  },
  {
   "cell_type": "code",
   "execution_count": 2,
   "id": "debd1941",
   "metadata": {},
   "outputs": [
    {
     "name": "stdout",
     "output_type": "stream",
     "text": [
      "employee name jashia\n",
      "salary of jashia is 25000.0\n"
     ]
    }
   ],
   "source": [
    "emp1=employee()\n",
    "print(f\"employee name {emp1.name}\")\n",
    "emp1.calculate_salary()"
   ]
  },
  {
   "cell_type": "code",
   "execution_count": 4,
   "id": "7c3a3354",
   "metadata": {},
   "outputs": [
    {
     "name": "stdout",
     "output_type": "stream",
     "text": [
      "employee name jashia mitayeegiri\n",
      "salary of jashia is 25000.0\n"
     ]
    }
   ],
   "source": [
    "# can create the attributes outside of class for the class\n",
    "emp1.last_name=\"mitayeegiri\"\n",
    "print(f\"employee name {emp1.name} {emp1.last_name}\")\n",
    "emp1.calculate_salary()"
   ]
  },
  {
   "cell_type": "markdown",
   "id": "73114f07",
   "metadata": {},
   "source": [
    "# Encapsulation"
   ]
  },
  {
   "cell_type": "code",
   "execution_count": null,
   "id": "28a59255",
   "metadata": {},
   "outputs": [],
   "source": [
    "class employee:\n",
    "    def __init__(self):\n",
    "        self.id=322\n",
    "        self.salary=250000\n",
    "        self.name=\"jashia\"\n",
    "        self.__snn=12345678 # encapsulation hidding ssn \n",
    "\n",
    "    def calculate_salary(self):\n",
    "        print(f\"salary of {self.name} is {self.salary/10}\")\n",
    "\n",
    "    def get_ssn(self):\n",
    "        return self.__snn\n",
    "    \n",
    "    def set_snn(self,val):\n",
    "        self.__snn=val\n",
    "        return\n",
    " "
   ]
  },
  {
   "cell_type": "code",
   "execution_count": 11,
   "id": "3298466d",
   "metadata": {},
   "outputs": [
    {
     "ename": "AttributeError",
     "evalue": "'employee' object has no attribute '__ssn'",
     "output_type": "error",
     "traceback": [
      "\u001b[1;31m---------------------------------------------------------------------------\u001b[0m",
      "\u001b[1;31mAttributeError\u001b[0m                            Traceback (most recent call last)",
      "Cell \u001b[1;32mIn[11], line 2\u001b[0m\n\u001b[0;32m      1\u001b[0m emp1\u001b[38;5;241m=\u001b[39memployee()\n\u001b[1;32m----> 2\u001b[0m \u001b[38;5;28mprint\u001b[39m(\u001b[43memp1\u001b[49m\u001b[38;5;241;43m.\u001b[39;49m\u001b[43m__ssn\u001b[49m)\n",
      "\u001b[1;31mAttributeError\u001b[0m: 'employee' object has no attribute '__ssn'"
     ]
    }
   ],
   "source": [
    "emp1=employee()\n",
    "print(emp1.__ssn)"
   ]
  },
  {
   "cell_type": "code",
   "execution_count": 20,
   "id": "9fc8150f",
   "metadata": {},
   "outputs": [
    {
     "data": {
      "text/plain": [
       "98876633"
      ]
     },
     "execution_count": 20,
     "metadata": {},
     "output_type": "execute_result"
    }
   ],
   "source": [
    "emp1=employee()\n",
    "emp1.get_ssn()\n",
    "emp1.set_snn(98876633)\n",
    "emp1.get_ssn()"
   ]
  },
  {
   "cell_type": "markdown",
   "id": "8676399c",
   "metadata": {},
   "source": [
    "# Static variable and methods\n"
   ]
  },
  {
   "cell_type": "code",
   "execution_count": 53,
   "id": "34bd49f8",
   "metadata": {},
   "outputs": [],
   "source": [
    "class employee:\n",
    "    __user_id=1\n",
    "    def __init__(self):\n",
    "        self.id=employee.__user_id\n",
    "        employee.__user_id+=1\n",
    "        self.salary=250000\n",
    "        self.name=\"jashia\"\n",
    "        self.__snn=12345678 # encapsulation hidding ssn \n",
    "\n",
    "    def calculate_salary(self):\n",
    "        print(f\"salary of {self.name} is {self.salary/10}\")\n",
    "\n",
    "    def get_ssn(self):\n",
    "        return self.__snn\n",
    "    \n",
    "    def set_snn(self,val):\n",
    "        self.__snn=val\n",
    "        return\n",
    "    \n",
    "    @staticmethod\n",
    "    def get_recent_id():\n",
    "        return employee.__user_id\n",
    "    \n",
    "    @staticmethod\n",
    "    def reset_user_id(val):\n",
    "        employee.__user_id = val\n",
    " "
   ]
  },
  {
   "cell_type": "code",
   "execution_count": 54,
   "id": "ff0f7f54",
   "metadata": {},
   "outputs": [
    {
     "name": "stdout",
     "output_type": "stream",
     "text": [
      "employee name jashia user_id = 1\n",
      "salary of jashia is 25000.0\n"
     ]
    }
   ],
   "source": [
    "emp1=employee()\n",
    "print(f\"employee name {emp1.name} user_id = {emp1.id}\")\n",
    "emp1.calculate_salary()"
   ]
  },
  {
   "cell_type": "code",
   "execution_count": 55,
   "id": "835bb307",
   "metadata": {},
   "outputs": [
    {
     "name": "stdout",
     "output_type": "stream",
     "text": [
      "employee name jashia user_id = 2\n",
      "salary of jashia is 25000.0\n"
     ]
    }
   ],
   "source": [
    "emp2=employee()\n",
    "print(f\"employee name {emp2.name} user_id = {emp2.id}\")\n",
    "emp2.calculate_salary()"
   ]
  },
  {
   "cell_type": "code",
   "execution_count": 56,
   "id": "9c78ace9",
   "metadata": {},
   "outputs": [
    {
     "name": "stdout",
     "output_type": "stream",
     "text": [
      "employee name jashia user_id = 3\n",
      "salary of jashia is 25000.0\n"
     ]
    }
   ],
   "source": [
    "emp3=employee()\n",
    "print(f\"employee name {emp3.name} user_id = {emp3.id}\")\n",
    "emp3.calculate_salary()"
   ]
  },
  {
   "cell_type": "code",
   "execution_count": 57,
   "id": "24a75fae",
   "metadata": {},
   "outputs": [
    {
     "data": {
      "text/plain": [
       "4"
      ]
     },
     "execution_count": 57,
     "metadata": {},
     "output_type": "execute_result"
    }
   ],
   "source": [
    "employee.get_recent_id()"
   ]
  },
  {
   "cell_type": "code",
   "execution_count": 58,
   "id": "07af2041",
   "metadata": {},
   "outputs": [],
   "source": [
    "employee.reset_user_id(515)"
   ]
  },
  {
   "cell_type": "code",
   "execution_count": 59,
   "id": "7360e5ae",
   "metadata": {},
   "outputs": [
    {
     "name": "stdout",
     "output_type": "stream",
     "text": [
      "employee name jashia user_id = 515\n",
      "salary of jashia is 25000.0\n"
     ]
    }
   ],
   "source": [
    "emp4=employee()\n",
    "print(f\"employee name {emp4.name} user_id = {emp4.id}\")\n",
    "emp4.calculate_salary()"
   ]
  }
 ],
 "metadata": {
  "kernelspec": {
   "display_name": "base",
   "language": "python",
   "name": "python3"
  },
  "language_info": {
   "codemirror_mode": {
    "name": "ipython",
    "version": 3
   },
   "file_extension": ".py",
   "mimetype": "text/x-python",
   "name": "python",
   "nbconvert_exporter": "python",
   "pygments_lexer": "ipython3",
   "version": "3.9.18"
  }
 },
 "nbformat": 4,
 "nbformat_minor": 5
}
