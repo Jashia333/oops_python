{
 "cells": [
  {
   "cell_type": "code",
   "execution_count": 1,
   "id": "ecf40899",
   "metadata": {},
   "outputs": [],
   "source": [
    "class employee:\n",
    "    def __init__(self):\n",
    "        self.id=322\n",
    "        self.salary=250000\n",
    "        self.name=\"jashia\"\n",
    "\n",
    "    def calculate_salary(self):\n",
    "        print(f\"salary of {self.name} is {self.salary/10}\")\n",
    " "
   ]
  },
  {
   "cell_type": "code",
   "execution_count": 2,
   "id": "debd1941",
   "metadata": {},
   "outputs": [
    {
     "name": "stdout",
     "output_type": "stream",
     "text": [
      "employee name jashia\n",
      "salary of jashia is 25000.0\n"
     ]
    }
   ],
   "source": [
    "emp1=employee()\n",
    "print(f\"employee name {emp1.name}\")\n",
    "emp1.calculate_salary()"
   ]
  },
  {
   "cell_type": "code",
   "execution_count": 4,
   "id": "7c3a3354",
   "metadata": {},
   "outputs": [
    {
     "name": "stdout",
     "output_type": "stream",
     "text": [
      "employee name jashia mitayeegiri\n",
      "salary of jashia is 25000.0\n"
     ]
    }
   ],
   "source": [
    "# can create the attributes outside of class for the class\n",
    "emp1.last_name=\"mitayeegiri\"\n",
    "print(f\"employee name {emp1.name} {emp1.last_name}\")\n",
    "emp1.calculate_salary()"
   ]
  },
  {
   "cell_type": "markdown",
   "id": "73114f07",
   "metadata": {},
   "source": [
    "# Encapsulation"
   ]
  },
  {
   "cell_type": "code",
   "execution_count": null,
   "id": "28a59255",
   "metadata": {},
   "outputs": [],
   "source": [
    "class employee:\n",
    "    def __init__(self):\n",
    "        self.id=322\n",
    "        self.salary=250000\n",
    "        self.name=\"jashia\"\n",
    "        self.__snn=12345678 # encapsulation hidding ssn \n",
    "\n",
    "    def calculate_salary(self):\n",
    "        print(f\"salary of {self.name} is {self.salary/10}\")\n",
    "\n",
    "    def get_ssn(self):\n",
    "        return self.__snn\n",
    "    \n",
    "    def set_snn(self,val):\n",
    "        self.__snn=val\n",
    "        return\n",
    " "
   ]
  },
  {
   "cell_type": "code",
   "execution_count": 11,
   "id": "3298466d",
   "metadata": {},
   "outputs": [
    {
     "ename": "AttributeError",
     "evalue": "'employee' object has no attribute '__ssn'",
     "output_type": "error",
     "traceback": [
      "\u001b[1;31m---------------------------------------------------------------------------\u001b[0m",
      "\u001b[1;31mAttributeError\u001b[0m                            Traceback (most recent call last)",
      "Cell \u001b[1;32mIn[11], line 2\u001b[0m\n\u001b[0;32m      1\u001b[0m emp1\u001b[38;5;241m=\u001b[39memployee()\n\u001b[1;32m----> 2\u001b[0m \u001b[38;5;28mprint\u001b[39m(\u001b[43memp1\u001b[49m\u001b[38;5;241;43m.\u001b[39;49m\u001b[43m__ssn\u001b[49m)\n",
      "\u001b[1;31mAttributeError\u001b[0m: 'employee' object has no attribute '__ssn'"
     ]
    }
   ],
   "source": [
    "emp1=employee()\n",
    "print(emp1.__ssn)"
   ]
  },
  {
   "cell_type": "code",
   "execution_count": 20,
   "id": "9fc8150f",
   "metadata": {},
   "outputs": [
    {
     "data": {
      "text/plain": [
       "98876633"
      ]
     },
     "execution_count": 20,
     "metadata": {},
     "output_type": "execute_result"
    }
   ],
   "source": [
    "emp1=employee()\n",
    "emp1.get_ssn()\n",
    "emp1.set_snn(98876633)\n",
    "emp1.get_ssn()"
   ]
  },
  {
   "cell_type": "markdown",
   "id": "8676399c",
   "metadata": {},
   "source": [
    "# Static variable and methods\n"
   ]
  },
  {
   "cell_type": "code",
   "execution_count": 53,
   "id": "34bd49f8",
   "metadata": {},
   "outputs": [],
   "source": [
    "class employee:\n",
    "    __user_id=1\n",
    "    def __init__(self):\n",
    "        self.id=employee.__user_id\n",
    "        employee.__user_id+=1\n",
    "        self.salary=250000\n",
    "        self.name=\"jashia\"\n",
    "        self.__snn=12345678 # encapsulation hidding ssn \n",
    "\n",
    "    def calculate_salary(self):\n",
    "        print(f\"salary of {self.name} is {self.salary/10}\")\n",
    "\n",
    "    def get_ssn(self):\n",
    "        return self.__snn\n",
    "    \n",
    "    def set_snn(self,val):\n",
    "        self.__snn=val\n",
    "        return\n",
    "    \n",
    "    @staticmethod\n",
    "    def get_recent_id():\n",
    "        return employee.__user_id\n",
    "    \n",
    "    @staticmethod\n",
    "    def reset_user_id(val):\n",
    "        employee.__user_id = val\n",
    " "
   ]
  },
  {
   "cell_type": "code",
   "execution_count": 54,
   "id": "ff0f7f54",
   "metadata": {},
   "outputs": [
    {
     "name": "stdout",
     "output_type": "stream",
     "text": [
      "employee name jashia user_id = 1\n",
      "salary of jashia is 25000.0\n"
     ]
    }
   ],
   "source": [
    "emp1=employee()\n",
    "print(f\"employee name {emp1.name} user_id = {emp1.id}\")\n",
    "emp1.calculate_salary()"
   ]
  },
  {
   "cell_type": "code",
   "execution_count": 55,
   "id": "835bb307",
   "metadata": {},
   "outputs": [
    {
     "name": "stdout",
     "output_type": "stream",
     "text": [
      "employee name jashia user_id = 2\n",
      "salary of jashia is 25000.0\n"
     ]
    }
   ],
   "source": [
    "emp2=employee()\n",
    "print(f\"employee name {emp2.name} user_id = {emp2.id}\")\n",
    "emp2.calculate_salary()"
   ]
  },
  {
   "cell_type": "code",
   "execution_count": 56,
   "id": "9c78ace9",
   "metadata": {},
   "outputs": [
    {
     "name": "stdout",
     "output_type": "stream",
     "text": [
      "employee name jashia user_id = 3\n",
      "salary of jashia is 25000.0\n"
     ]
    }
   ],
   "source": [
    "emp3=employee()\n",
    "print(f\"employee name {emp3.name} user_id = {emp3.id}\")\n",
    "emp3.calculate_salary()"
   ]
  },
  {
   "cell_type": "code",
   "execution_count": 57,
   "id": "24a75fae",
   "metadata": {},
   "outputs": [
    {
     "data": {
      "text/plain": [
       "4"
      ]
     },
     "execution_count": 57,
     "metadata": {},
     "output_type": "execute_result"
    }
   ],
   "source": [
    "employee.get_recent_id()"
   ]
  },
  {
   "cell_type": "code",
   "execution_count": 58,
   "id": "07af2041",
   "metadata": {},
   "outputs": [],
   "source": [
    "employee.reset_user_id(515)"
   ]
  },
  {
   "cell_type": "code",
   "execution_count": 59,
   "id": "7360e5ae",
   "metadata": {},
   "outputs": [
    {
     "name": "stdout",
     "output_type": "stream",
     "text": [
      "employee name jashia user_id = 515\n",
      "salary of jashia is 25000.0\n"
     ]
    }
   ],
   "source": [
    "emp4=employee()\n",
    "print(f\"employee name {emp4.name} user_id = {emp4.id}\")\n",
    "emp4.calculate_salary()"
   ]
  },
  {
   "cell_type": "markdown",
   "id": "e912da81",
   "metadata": {},
   "source": [
    "# Inheritance "
   ]
  },
  {
   "cell_type": "markdown",
   "id": "91776096",
   "metadata": {},
   "source": [
    "### Method Overridding"
   ]
  },
  {
   "cell_type": "code",
   "execution_count": null,
   "id": "fea62c2b",
   "metadata": {},
   "outputs": [
    {
     "name": "stdout",
     "output_type": "stream",
     "text": [
      "From the ^^^^ Child ^^^^ \n"
     ]
    }
   ],
   "source": [
    "class parent:\n",
    "    def __init__(self):\n",
    "        self.name=\"Parent\"\n",
    "\n",
    "    def print_call(self):\n",
    "        print(\"From the **** Parent ****\")\n",
    "\n",
    "class child(parent):\n",
    "    def print_call(self):\n",
    "        print(\"From the ^^^^ Child ^^^^ \")\n",
    "\n",
    "p1=child()\n",
    "p1.print_call()\n",
    "# the print_call in child over rides the parent"
   ]
  },
  {
   "cell_type": "markdown",
   "id": "9d5a1362",
   "metadata": {},
   "source": [
    "### Method print_call doesnt exists in child it calls the parent"
   ]
  },
  {
   "cell_type": "code",
   "execution_count": 66,
   "id": "d7cc1d1a",
   "metadata": {},
   "outputs": [
    {
     "name": "stdout",
     "output_type": "stream",
     "text": [
      "From the **** Parent ****\n",
      "From the ^^^^ Child ^^^^ \n"
     ]
    }
   ],
   "source": [
    "class parent:\n",
    "    def __init__(self):\n",
    "        self.name=\"Parent\"\n",
    "\n",
    "    def print_call(self):\n",
    "        print(\"From the **** Parent ****\")\n",
    "\n",
    "class child(parent):\n",
    "    def print_call_child(self):\n",
    "        print(\"From the ^^^^ Child ^^^^ \")\n",
    "\n",
    "\n",
    "p1=child()\n",
    "p1.print_call() # method not in child\n",
    "p1.print_call_child() # method in child\n"
   ]
  },
  {
   "cell_type": "code",
   "execution_count": null,
   "id": "46043150",
   "metadata": {},
   "outputs": [
    {
     "name": "stdout",
     "output_type": "stream",
     "text": [
      "From the ^^^^ Child ^^^^ \n",
      "From the ^^^^ Child ^^^^ \n"
     ]
    }
   ],
   "source": [
    "class parent:\n",
    "    def __init__(self):\n",
    "        self.name=\"Parent\"\n",
    "\n",
    "    def print_call(self):\n",
    "        print(\"From the **** Parent ****\")\n",
    "\n",
    "class child(parent):\n",
    "    def print_call_child(self):\n",
    "        print(\"From the ^^^^ Child ^^^^ \")\n",
    "\n",
    "    def print_call(self):\n",
    "        print(\"From the ^^^^ Child ^^^^ \")\n",
    "\n",
    "p1=child()\n",
    "p1.print_call() # method in child\n",
    "p1.print_call_child() # method in child"
   ]
  },
  {
   "cell_type": "markdown",
   "id": "b41a4d7b",
   "metadata": {},
   "source": [
    "#### If no contructor is defined for the child class we need pass the attributes required by the parents class"
   ]
  },
  {
   "cell_type": "code",
   "execution_count": 84,
   "id": "6180f235",
   "metadata": {},
   "outputs": [
    {
     "ename": "TypeError",
     "evalue": "__init__() missing 1 required positional argument: 'name'",
     "output_type": "error",
     "traceback": [
      "\u001b[1;31m---------------------------------------------------------------------------\u001b[0m",
      "\u001b[1;31mTypeError\u001b[0m                                 Traceback (most recent call last)",
      "Cell \u001b[1;32mIn[84], line 15\u001b[0m\n\u001b[0;32m     11\u001b[0m         \u001b[38;5;28mprint\u001b[39m(\u001b[38;5;124mf\u001b[39m\u001b[38;5;124m\"\u001b[39m\u001b[38;5;124mHey \u001b[39m\u001b[38;5;132;01m{\u001b[39;00m\u001b[38;5;28mself\u001b[39m\u001b[38;5;241m.\u001b[39mname\u001b[38;5;132;01m}\u001b[39;00m\u001b[38;5;124m from B\u001b[39m\u001b[38;5;124m\"\u001b[39m)\n\u001b[0;32m     12\u001b[0m         \u001b[38;5;28msuper\u001b[39m()\u001b[38;5;241m.\u001b[39mcalling()\n\u001b[1;32m---> 15\u001b[0m p1\u001b[38;5;241m=\u001b[39m\u001b[43mB\u001b[49m\u001b[43m(\u001b[49m\u001b[43m)\u001b[49m\n\u001b[0;32m     16\u001b[0m p1\u001b[38;5;241m.\u001b[39mcalling()\n",
      "\u001b[1;31mTypeError\u001b[0m: __init__() missing 1 required positional argument: 'name'"
     ]
    }
   ],
   "source": [
    "class A:\n",
    "    def __init__(self,name):\n",
    "        self.name=name\n",
    "\n",
    "    def calling(self):\n",
    "        print(f\"Hey {self.name} from A\")\n",
    "\n",
    "class B(A):\n",
    "\n",
    "    def calling(self):\n",
    "        print(f\"Hey {self.name} from B\")\n",
    "        super().calling()\n",
    "\n",
    "\n",
    "p1=B()\n",
    "p1.calling()"
   ]
  },
  {
   "cell_type": "code",
   "execution_count": 83,
   "id": "0c542907",
   "metadata": {},
   "outputs": [
    {
     "name": "stdout",
     "output_type": "stream",
     "text": [
      "Hey Raya from B\n",
      "Hey Raya from A\n"
     ]
    }
   ],
   "source": [
    "class A:\n",
    "    def __init__(self,name):\n",
    "        self.name=name\n",
    "\n",
    "    def calling(self):\n",
    "        print(f\"Hey {self.name} from A\")\n",
    "\n",
    "class B(A):\n",
    "\n",
    "    def calling(self):\n",
    "        print(f\"Hey {self.name} from B\")\n",
    "        super().calling()\n",
    "\n",
    "\n",
    "p1=B(\"Raya\")\n",
    "p1.calling()"
   ]
  },
  {
   "cell_type": "markdown",
   "id": "bbb7fb78",
   "metadata": {},
   "source": [
    "## Super"
   ]
  },
  {
   "cell_type": "code",
   "execution_count": null,
   "id": "9deffe70",
   "metadata": {},
   "outputs": [
    {
     "name": "stdout",
     "output_type": "stream",
     "text": [
      "From the ^^^^ Child ^^^^ \n",
      " This attribute from Parent --> Parent\n",
      "From the ^^^^ Child ^^^^ \n"
     ]
    }
   ],
   "source": [
    "class parent:\n",
    "    def __init__(self):\n",
    "        self.name=\"Parent\"\n",
    "\n",
    "    def print_call(self):\n",
    "        print(\"From the **** Parent ****\")\n",
    "\n",
    "class child(parent):\n",
    "\n",
    "    def print_call(self):\n",
    "        print(\"From the ^^^^ Child ^^^^ \")\n",
    "        print(f\" This attribute from Parent --> {self.name}\")\n",
    "        \n",
    "    def print_call_child(self):\n",
    "        print(\"From the ^^^^ Child ^^^^ \")\n",
    "\n",
    "    \n",
    "\n",
    "p1=child()\n",
    "p1.print_call() # method in child\n",
    "p1.print_call_child() # method in child"
   ]
  },
  {
   "cell_type": "code",
   "execution_count": null,
   "id": "ed706cf7",
   "metadata": {},
   "outputs": [
    {
     "name": "stdout",
     "output_type": "stream",
     "text": [
      "From the ^^^^ Child ^^^^ \n"
     ]
    },
    {
     "ename": "AttributeError",
     "evalue": "'child' object has no attribute 'name'",
     "output_type": "error",
     "traceback": [
      "\u001b[1;31m---------------------------------------------------------------------------\u001b[0m",
      "\u001b[1;31mAttributeError\u001b[0m                            Traceback (most recent call last)",
      "Cell \u001b[1;32mIn[68], line 22\u001b[0m\n\u001b[0;32m     18\u001b[0m         \u001b[38;5;28mprint\u001b[39m(\u001b[38;5;124mf\u001b[39m\u001b[38;5;124m\"\u001b[39m\u001b[38;5;124m This attribute from Parent --> \u001b[39m\u001b[38;5;132;01m{\u001b[39;00m\u001b[38;5;28mself\u001b[39m\u001b[38;5;241m.\u001b[39mname\u001b[38;5;132;01m}\u001b[39;00m\u001b[38;5;124m\"\u001b[39m)\n\u001b[0;32m     21\u001b[0m p1\u001b[38;5;241m=\u001b[39mchild()\n\u001b[1;32m---> 22\u001b[0m \u001b[43mp1\u001b[49m\u001b[38;5;241;43m.\u001b[39;49m\u001b[43mprint_call\u001b[49m\u001b[43m(\u001b[49m\u001b[43m)\u001b[49m \u001b[38;5;66;03m# method in child\u001b[39;00m\n\u001b[0;32m     23\u001b[0m p1\u001b[38;5;241m.\u001b[39mprint_call_child()\n",
      "Cell \u001b[1;32mIn[68], line 18\u001b[0m, in \u001b[0;36mchild.print_call\u001b[1;34m(self)\u001b[0m\n\u001b[0;32m     16\u001b[0m \u001b[38;5;28;01mdef\u001b[39;00m \u001b[38;5;21mprint_call\u001b[39m(\u001b[38;5;28mself\u001b[39m):\n\u001b[0;32m     17\u001b[0m     \u001b[38;5;28mprint\u001b[39m(\u001b[38;5;124m\"\u001b[39m\u001b[38;5;124mFrom the ^^^^ Child ^^^^ \u001b[39m\u001b[38;5;124m\"\u001b[39m)\n\u001b[1;32m---> 18\u001b[0m     \u001b[38;5;28mprint\u001b[39m(\u001b[38;5;124mf\u001b[39m\u001b[38;5;124m\"\u001b[39m\u001b[38;5;124m This attribute from Parent --> \u001b[39m\u001b[38;5;132;01m{\u001b[39;00m\u001b[38;5;28mself\u001b[39m\u001b[38;5;241m.\u001b[39mname\u001b[38;5;132;01m}\u001b[39;00m\u001b[38;5;124m\"\u001b[39m)\n",
      "\u001b[1;31mAttributeError\u001b[0m: 'child' object has no attribute 'name'"
     ]
    }
   ],
   "source": [
    "class parent:\n",
    "    def __init__(self):\n",
    "        self.name=\"Parent\"\n",
    "\n",
    "    def print_call(self):\n",
    "        print(\"From the **** Parent ****\")\n",
    "\n",
    "class child(parent):\n",
    "    def __init__(self):\n",
    "        self.child_name=\"child_name\"\n",
    "\n",
    "    def print_call(self):\n",
    "        print(\"From the ^^^^ Child ^^^^ \")\n",
    "        print(f\" This attribute from Parent --> {self.name}\")\n",
    "        \n",
    "    def print_call_child(self):\n",
    "        print(\"From the ^^^^ Child ^^^^ \")\n",
    "        print(f\" This attribute from child --> {self.child_name}\")\n",
    "\n",
    "\n",
    "\n",
    "\n",
    "p1=child()\n",
    "p1.print_call() # method in child\n",
    "p1.print_call_child() # method in child"
   ]
  },
  {
   "cell_type": "markdown",
   "id": "d8133b2a",
   "metadata": {},
   "source": [
    "#### Calling parent contructor with super().__init()"
   ]
  },
  {
   "cell_type": "code",
   "execution_count": null,
   "id": "1a074983",
   "metadata": {},
   "outputs": [
    {
     "name": "stdout",
     "output_type": "stream",
     "text": [
      "From the ^^^^ Child ^^^^ \n",
      " This attribute from Parent --> Parent\n",
      "From the ^^^^ Child ^^^^ \n",
      " This attribute from child --> child_name\n"
     ]
    }
   ],
   "source": [
    "class parent:\n",
    "    def __init__(self):\n",
    "        self.name=\"Parent\"\n",
    "\n",
    "    def print_call(self):\n",
    "        print(\"From the **** Parent ****\")\n",
    "\n",
    "class child(parent):\n",
    "    def __init__(self):\n",
    "        super().__init__()  # parent contructure\n",
    "        self.child_name=\"child_name\"\n",
    "\n",
    "    def print_call(self):\n",
    "        print(\"From the ^^^^ Child ^^^^ \")\n",
    "        print(f\" This attribute from Parent --> {self.name}\")\n",
    "        \n",
    "    def print_call_child(self):\n",
    "        print(\"From the ^^^^ Child ^^^^ \")\n",
    "        print(f\" This attribute from child --> {self.child_name}\")\n",
    "\n",
    "    \n",
    "\n",
    "\n",
    "p1=child()\n",
    "p1.print_call() # method in child\n",
    "p1.print_call_child() # method in child"
   ]
  },
  {
   "cell_type": "markdown",
   "id": "3f28e6c4",
   "metadata": {},
   "source": [
    "#### super can call methods"
   ]
  },
  {
   "cell_type": "code",
   "execution_count": 77,
   "id": "2704d22c",
   "metadata": {},
   "outputs": [
    {
     "name": "stdout",
     "output_type": "stream",
     "text": [
      "From the ^^^^ Child ^^^^ \n",
      " This attribute from Parent --> Parent \n",
      "\n",
      "***************************************\n",
      "Calling the parent method with super \n",
      "\n",
      "From the **** Parent ****\n",
      "From the ^^^^ Child ^^^^ \n",
      " This attribute from child --> child_name\n"
     ]
    }
   ],
   "source": [
    "class parent:\n",
    "    def __init__(self):\n",
    "        self.name=\"Parent\"\n",
    "\n",
    "    def print_call(self):\n",
    "        print(\"From the **** Parent ****\")\n",
    "\n",
    "class child(parent):\n",
    "    def __init__(self):\n",
    "        super().__init__()  # parent contructure\n",
    "        self.child_name=\"child_name\"\n",
    "\n",
    "    def print_call(self):\n",
    "        print(\"From the ^^^^ Child ^^^^ \")\n",
    "        print(f\" This attribute from Parent --> {self.name} \\n\")\n",
    "        print(\"***************************************\")\n",
    "        \n",
    "    def print_call_child(self):\n",
    "        print(\"Calling the parent method with super \\n\")\n",
    "        super().print_call()\n",
    "        print(\"From the ^^^^ Child ^^^^ \")\n",
    "        print(f\" This attribute from child --> {self.child_name}\")\n",
    "\n",
    "    \n",
    "\n",
    "\n",
    "p1=child()\n",
    "p1.print_call() # method in child\n",
    "p1.print_call_child() # method in child"
   ]
  },
  {
   "cell_type": "markdown",
   "id": "3838a33b",
   "metadata": {},
   "source": [
    "#### super cannot call the variables"
   ]
  },
  {
   "cell_type": "code",
   "execution_count": 79,
   "id": "bcf326bf",
   "metadata": {},
   "outputs": [
    {
     "name": "stdout",
     "output_type": "stream",
     "text": [
      "From the ^^^^ Child ^^^^ \n",
      " This attribute from Parent --> Parent \n",
      "\n",
      "***************************************\n",
      "Calling the parent method with super \n",
      "\n",
      "From the **** Parent ****\n"
     ]
    },
    {
     "ename": "AttributeError",
     "evalue": "'super' object has no attribute 'name'",
     "output_type": "error",
     "traceback": [
      "\u001b[1;31m---------------------------------------------------------------------------\u001b[0m",
      "\u001b[1;31mAttributeError\u001b[0m                            Traceback (most recent call last)",
      "Cell \u001b[1;32mIn[79], line 30\u001b[0m\n\u001b[0;32m     28\u001b[0m p1\u001b[38;5;241m=\u001b[39mchild()\n\u001b[0;32m     29\u001b[0m p1\u001b[38;5;241m.\u001b[39mprint_call() \u001b[38;5;66;03m# method in child\u001b[39;00m\n\u001b[1;32m---> 30\u001b[0m \u001b[43mp1\u001b[49m\u001b[38;5;241;43m.\u001b[39;49m\u001b[43mprint_call_child\u001b[49m\u001b[43m(\u001b[49m\u001b[43m)\u001b[49m\n",
      "Cell \u001b[1;32mIn[79], line 21\u001b[0m, in \u001b[0;36mchild.print_call_child\u001b[1;34m(self)\u001b[0m\n\u001b[0;32m     19\u001b[0m \u001b[38;5;28mprint\u001b[39m(\u001b[38;5;124m\"\u001b[39m\u001b[38;5;124mCalling the parent method with super \u001b[39m\u001b[38;5;130;01m\\n\u001b[39;00m\u001b[38;5;124m\"\u001b[39m)\n\u001b[0;32m     20\u001b[0m \u001b[38;5;28msuper\u001b[39m()\u001b[38;5;241m.\u001b[39mprint_call()\n\u001b[1;32m---> 21\u001b[0m \u001b[38;5;28;43msuper\u001b[39;49m\u001b[43m(\u001b[49m\u001b[43m)\u001b[49m\u001b[38;5;241;43m.\u001b[39;49m\u001b[43mname\u001b[49m\n\u001b[0;32m     22\u001b[0m \u001b[38;5;28mprint\u001b[39m(\u001b[38;5;124m\"\u001b[39m\u001b[38;5;124mFrom the ^^^^ Child ^^^^ \u001b[39m\u001b[38;5;124m\"\u001b[39m)\n\u001b[0;32m     23\u001b[0m \u001b[38;5;28mprint\u001b[39m(\u001b[38;5;124mf\u001b[39m\u001b[38;5;124m\"\u001b[39m\u001b[38;5;124m This attribute from child --> \u001b[39m\u001b[38;5;132;01m{\u001b[39;00m\u001b[38;5;28mself\u001b[39m\u001b[38;5;241m.\u001b[39mchild_name\u001b[38;5;132;01m}\u001b[39;00m\u001b[38;5;124m\"\u001b[39m)\n",
      "\u001b[1;31mAttributeError\u001b[0m: 'super' object has no attribute 'name'"
     ]
    }
   ],
   "source": [
    "class parent:\n",
    "    def __init__(self):\n",
    "        self.name=\"Parent\"\n",
    "\n",
    "    def print_call(self):\n",
    "        print(\"From the **** Parent ****\")\n",
    "\n",
    "class child(parent):\n",
    "    def __init__(self):\n",
    "        super().__init__()  # parent contructure\n",
    "        self.child_name=\"child_name\"\n",
    "\n",
    "    def print_call(self):\n",
    "        print(\"From the ^^^^ Child ^^^^ \")\n",
    "        print(f\" This attribute from Parent --> {self.name} \\n\")\n",
    "        print(\"***************************************\")\n",
    "        \n",
    "    def print_call_child(self):\n",
    "        print(\"Calling the parent method with super \\n\")\n",
    "        super().print_call()\n",
    "        super().name\n",
    "        print(\"From the ^^^^ Child ^^^^ \")\n",
    "        print(f\" This attribute from child --> {self.child_name}\")\n",
    "\n",
    "    \n",
    "\n",
    "\n",
    "p1=child()\n",
    "p1.print_call() # method in child\n",
    "p1.print_call_child() # method in child"
   ]
  },
  {
   "cell_type": "markdown",
   "id": "f9f91b52",
   "metadata": {},
   "source": [
    "# Types of Inheritance"
   ]
  },
  {
   "cell_type": "markdown",
   "id": "a825d0a8",
   "metadata": {},
   "source": [
    "## Single level Inheritance"
   ]
  },
  {
   "cell_type": "code",
   "execution_count": 95,
   "id": "4cb768e4",
   "metadata": {},
   "outputs": [
    {
     "name": "stdout",
     "output_type": "stream",
     "text": [
      "Hey Raya from B\n",
      "Hey Raya from A\n"
     ]
    }
   ],
   "source": [
    "class A:\n",
    "    def __init__(self,name):\n",
    "        self.name=name\n",
    "\n",
    "    def calling(self):\n",
    "        print(f\"Hey {self.name} from A\")\n",
    "\n",
    "class B(A):\n",
    "\n",
    "    def calling(self):\n",
    "        print(f\"Hey {self.name} from B\")\n",
    "        super().calling()\n",
    "\n",
    "\n",
    "p1=B(\"Raya\")\n",
    "p1.calling()"
   ]
  },
  {
   "cell_type": "markdown",
   "id": "80cb7349",
   "metadata": {},
   "source": [
    "## Multi-level Inheritance"
   ]
  },
  {
   "cell_type": "code",
   "execution_count": 96,
   "id": "98f8b607",
   "metadata": {},
   "outputs": [
    {
     "name": "stdout",
     "output_type": "stream",
     "text": [
      "--------------------\n",
      "Hey Raya from C\n",
      "Calling B\n",
      "--------------------\n",
      "Hey Raya from B\n",
      "Calling A\n",
      "--------------------\n",
      "Hey Raya from A\n"
     ]
    }
   ],
   "source": [
    "class A:\n",
    "    def __init__(self,name):\n",
    "        self.name=name\n",
    "\n",
    "    def calling(self):\n",
    "        print((\"-\") * 20)\n",
    "        print(f\"Hey {self.name} from A\")\n",
    "\n",
    "class B(A):\n",
    "\n",
    "    def calling(self):\n",
    "        print((\"-\") * 20)\n",
    "        print(f\"Hey {self.name} from B\")\n",
    "        print(\"Calling A\")\n",
    "        super().calling()\n",
    "        \n",
    "\n",
    "\n",
    "class C(B):\n",
    "\n",
    "    def calling(self):\n",
    "        print((\"-\")*20)\n",
    "        print(f\"Hey {self.name} from C\")\n",
    "        print(\"Calling B\")\n",
    "        super().calling()\n",
    "        \n",
    "\n",
    "\n",
    "p1=C(\"Raya\")\n",
    "p1.calling()"
   ]
  },
  {
   "cell_type": "markdown",
   "id": "b33a4e33",
   "metadata": {},
   "source": [
    "## Hierarchical Iheritance"
   ]
  },
  {
   "cell_type": "code",
   "execution_count": 98,
   "id": "f5364bb6",
   "metadata": {},
   "outputs": [
    {
     "name": "stdout",
     "output_type": "stream",
     "text": [
      "--------------------\n",
      "Hey Raya from E\n",
      "Calling A\n",
      "--------------------\n",
      "Hey Raya from A\n"
     ]
    }
   ],
   "source": [
    "class A:\n",
    "    def __init__(self,name):\n",
    "        self.name=name\n",
    "\n",
    "    def calling(self):\n",
    "        print((\"-\") * 20)\n",
    "        print(f\"Hey {self.name} from A\")\n",
    "\n",
    "class B(A):\n",
    "\n",
    "    def calling(self):\n",
    "        print((\"-\") * 20)\n",
    "        print(f\"Hey {self.name} from B\")\n",
    "        print(\"Calling A from B\")\n",
    "        super().calling()\n",
    "        \n",
    "\n",
    "class C(A):\n",
    "\n",
    "    def calling(self):\n",
    "        print((\"-\")*20)\n",
    "        print(f\"Hey {self.name} from C\")\n",
    "        print(\"Calling A from C\")\n",
    "        super().calling()\n",
    "\n",
    "class E(A):\n",
    "\n",
    "    def calling(self):\n",
    "        print((\"-\")*20)\n",
    "        print(f\"Hey {self.name} from E\")\n",
    "        print(\"Calling A\")\n",
    "        super().calling()\n",
    "        \n",
    "\n",
    "\n",
    "p1=E(\"Raya\")\n",
    "p1.calling()"
   ]
  },
  {
   "cell_type": "markdown",
   "id": "0735cf58",
   "metadata": {},
   "source": [
    "## Hybrid Inheritance"
   ]
  },
  {
   "cell_type": "code",
   "execution_count": 99,
   "id": "44a25a67",
   "metadata": {},
   "outputs": [
    {
     "name": "stdout",
     "output_type": "stream",
     "text": [
      "--------------------\n",
      "Hey Raya from E\n",
      "Calling B,C\n",
      "--------------------\n",
      "Hey Raya from B\n",
      "Calling A from B\n",
      "--------------------\n",
      "Hey Raya from C\n",
      "Calling A from C\n",
      "--------------------\n",
      "Hey Raya from A\n"
     ]
    }
   ],
   "source": [
    "class A:\n",
    "    def __init__(self,name):\n",
    "        self.name=name\n",
    "\n",
    "    def calling(self):\n",
    "        print((\"-\") * 20)\n",
    "        print(f\"Hey {self.name} from A\")\n",
    "\n",
    "class B(A):\n",
    "\n",
    "    def calling(self):\n",
    "        print((\"-\") * 20)\n",
    "        print(f\"Hey {self.name} from B\")\n",
    "        print(\"Calling A from B\")\n",
    "        super().calling()\n",
    "        \n",
    "\n",
    "class C(A):\n",
    "\n",
    "    def calling(self):\n",
    "        print((\"-\")*20)\n",
    "        print(f\"Hey {self.name} from C\")\n",
    "        print(\"Calling A from C\")\n",
    "        super().calling()\n",
    "\n",
    "class E(B,C):\n",
    "\n",
    "    def calling(self):\n",
    "        print((\"-\")*20)\n",
    "        print(f\"Hey {self.name} from E\")\n",
    "        print(\"Calling B,C\")\n",
    "        super().calling()\n",
    "        \n",
    "\n",
    "\n",
    "p1=E(\"Raya\")\n",
    "p1.calling()"
   ]
  }
 ],
 "metadata": {
  "kernelspec": {
   "display_name": "base",
   "language": "python",
   "name": "python3"
  },
  "language_info": {
   "codemirror_mode": {
    "name": "ipython",
    "version": 3
   },
   "file_extension": ".py",
   "mimetype": "text/x-python",
   "name": "python",
   "nbconvert_exporter": "python",
   "pygments_lexer": "ipython3",
   "version": "3.9.18"
  }
 },
 "nbformat": 4,
 "nbformat_minor": 5
}
